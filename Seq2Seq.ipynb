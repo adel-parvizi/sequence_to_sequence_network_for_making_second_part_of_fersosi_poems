{
  "nbformat": 4,
  "nbformat_minor": 0,
  "metadata": {
    "colab": {
      "provenance": []
    },
    "kernelspec": {
      "name": "python3",
      "display_name": "Python 3"
    },
    "language_info": {
      "name": "python"
    },
    "gpuClass": "standard",
    "accelerator": "GPU"
  },
  "cells": [
    {
      "cell_type": "markdown",
      "source": [
        "## Sequence to sequence model for making second part of ferdosi poems\n",
        "              Adel Parvizi"
      ],
      "metadata": {
        "id": "4WFRs6jJpfig"
      }
    },
    {
      "cell_type": "markdown",
      "source": [
        "##Part 1"
      ],
      "metadata": {
        "id": "0nCIr5hTG4kQ"
      }
    },
    {
      "cell_type": "markdown",
      "source": [
        "importing needed libreries"
      ],
      "metadata": {
        "id": "yKT0ZZulIQ7Z"
      }
    },
    {
      "cell_type": "code",
      "source": [
        "import torch.optim as optim\n",
        "import torch\n",
        "import time\n",
        "import torchtext\n",
        "from torchtext.data import get_tokenizer\n",
        "from torchtext.vocab import build_vocab_from_iterator\n",
        "import re\n",
        "import random\n",
        "import math\n",
        "import torch.nn as nn\n",
        "import numpy as np\n",
        "from sklearn.model_selection import train_test_split\n",
        "import matplotlib.pyplot as plt\n",
        "from torch.utils.data import DataLoader\n",
        "from torchtext.data.functional import to_map_style_dataset\n",
        "!pip install nltk\n",
        "import nltk\n",
        "nltk.download('punkt')\n",
        "from collections import Counter\n",
        "import os\n",
        "import os.path\n",
        "import pickle\n",
        "from google.colab import drive\n",
        "drive.mount('/content/drive')"
      ],
      "metadata": {
        "id": "K2yrA5XlprQ5",
        "colab": {
          "base_uri": "https://localhost:8080/"
        },
        "outputId": "06888b69-a4ec-4d5e-fb7c-ae741eada181"
      },
      "execution_count": 1,
      "outputs": [
        {
          "output_type": "stream",
          "name": "stdout",
          "text": [
            "Requirement already satisfied: nltk in /usr/local/lib/python3.10/dist-packages (3.8.1)\n",
            "Requirement already satisfied: click in /usr/local/lib/python3.10/dist-packages (from nltk) (8.1.4)\n",
            "Requirement already satisfied: joblib in /usr/local/lib/python3.10/dist-packages (from nltk) (1.3.1)\n",
            "Requirement already satisfied: regex>=2021.8.3 in /usr/local/lib/python3.10/dist-packages (from nltk) (2022.10.31)\n",
            "Requirement already satisfied: tqdm in /usr/local/lib/python3.10/dist-packages (from nltk) (4.65.0)\n"
          ]
        },
        {
          "output_type": "stream",
          "name": "stderr",
          "text": [
            "[nltk_data] Downloading package punkt to /root/nltk_data...\n",
            "[nltk_data]   Unzipping tokenizers/punkt.zip.\n"
          ]
        },
        {
          "output_type": "stream",
          "name": "stdout",
          "text": [
            "Mounted at /content/drive\n"
          ]
        }
      ]
    },
    {
      "cell_type": "markdown",
      "source": [
        "check avilable devices"
      ],
      "metadata": {
        "id": "iAiRO-LjIVGi"
      }
    },
    {
      "cell_type": "code",
      "source": [
        "device = torch.device(\"cuda\" if torch.cuda.is_available() else \"cpu\")\n",
        "device"
      ],
      "metadata": {
        "colab": {
          "base_uri": "https://localhost:8080/"
        },
        "id": "_tvJ_FXHZn7l",
        "outputId": "5210485c-6988-4bc4-83a9-12dc0539b4ac"
      },
      "execution_count": 2,
      "outputs": [
        {
          "output_type": "execute_result",
          "data": {
            "text/plain": [
              "device(type='cuda')"
            ]
          },
          "metadata": {},
          "execution_count": 2
        }
      ]
    },
    {
      "cell_type": "code",
      "source": [
        "print(\"PyTorch Version : {}\".format(torch.__version__))\n",
        "print(\"TorchText Version : {}\".format(torchtext.__version__))"
      ],
      "metadata": {
        "colab": {
          "base_uri": "https://localhost:8080/"
        },
        "id": "9tQLeJCMUhtU",
        "outputId": "dd687f4c-0916-4b17-a6f1-3e60a08b7c19"
      },
      "execution_count": 3,
      "outputs": [
        {
          "output_type": "stream",
          "name": "stdout",
          "text": [
            "PyTorch Version : 2.0.1+cu118\n",
            "TorchText Version : 0.15.2+cpu\n"
          ]
        }
      ]
    },
    {
      "cell_type": "markdown",
      "source": [
        "I've borrow this class from a site. Acually this class get a list of strings and give us a model that have two dictionary which associate words with indexes and vic versa.\n",
        "* If we have a vocabulary we'll use that if not we need to build ones.\n",
        "* At first we add \"sos\", \"eos\", \"unk\" to vocab. thay are nessesiry to be there. After that we tokenize sentences and add the tokens to vocab.\n",
        "* I've delet numbers and unwanted tokens.\n",
        "\n",
        "* add_captions: works on sentenses and after converting them to token, it will add them to vocab using \"add_word\"\n",
        "* add_word: adds tokens to vab.\n",
        "\n",
        "* __call__ get a list/single string and convert them/that to index"
      ],
      "metadata": {
        "id": "hkmZMgRhPGQp"
      }
    },
    {
      "cell_type": "code",
      "source": [
        "class Vocabulary(object):\n",
        "\n",
        "    def __init__(self, vocab_threshold, vocab_file='/content/drive/MyDrive/Colab_Notebooks/Seqence_to_Sequence/vocab.pkl',\n",
        "        start_word=\"<sos>\", end_word=\"<eos>\", unk_word=\"<unk>\",\n",
        "        poem_list='/content/annotations/captions_train2014.json', vocab_from_file=False):\n",
        "        self.vocab_threshold = vocab_threshold\n",
        "        self.vocab_file = vocab_file\n",
        "        self.start_word = start_word\n",
        "        self.end_word = end_word\n",
        "        self.unk_word = unk_word\n",
        "        self.poem_list = poem_list\n",
        "        self.vocab_from_file = vocab_from_file\n",
        "        self.get_vocab()\n",
        "\n",
        "    def get_vocab(self):\n",
        "        if os.path.exists(self.vocab_file) & self.vocab_from_file:\n",
        "            with open(self.vocab_file, 'rb') as f:\n",
        "                vocab = pickle.load(f)\n",
        "                self.word2idx = vocab.word2idx\n",
        "                self.idx2word = vocab.idx2word\n",
        "            print('Vocabulary successfully loaded from vocab.pkl file!')\n",
        "        else:\n",
        "            self.build_vocab()\n",
        "            with open(self.vocab_file, 'wb') as f:\n",
        "                pickle.dump(self, f)\n",
        "\n",
        "    def build_vocab(self):\n",
        "        self.init_vocab()\n",
        "        self.add_word(self.start_word)\n",
        "        self.add_word(self.end_word)\n",
        "        self.add_word(self.unk_word)\n",
        "        self.add_captions()\n",
        "\n",
        "    def init_vocab(self):\n",
        "        self.word2idx = {}\n",
        "        self.idx2word = {}\n",
        "        self.idx = 0\n",
        "\n",
        "    def add_word(self, word):\n",
        "\n",
        "        if not word in self.word2idx:\n",
        "            self.word2idx[word] = self.idx\n",
        "            self.idx2word[self.idx] = word\n",
        "            self.idx += 1\n",
        "\n",
        "    def add_captions(self):\n",
        "        counter = Counter()\n",
        "        for i, poem in enumerate(self.poem_list):\n",
        "            # Remove punctuation by using regex\n",
        "            rp_poem = re.sub(r'[^\\w\\s]','', poem)\n",
        "            #remove numbers\n",
        "            rnp_poem = re.sub(r'\\d+', '', rp_poem)\n",
        "            tokens = nltk.tokenize.word_tokenize(rnp_poem.lower())\n",
        "            counter.update(tokens)\n",
        "\n",
        "            if i % 20000 == 0:\n",
        "                print(\"[%d/%d] Tokenizing captions...\" % (i, len(self.poem_list)))\n",
        "\n",
        "        words = [word for word, cnt in counter.items() if cnt >= self.vocab_threshold]\n",
        "\n",
        "        for i, word in enumerate(words):\n",
        "            self.add_word(word)\n",
        "\n",
        "    def __call__(self, word):\n",
        "      if type(word) == str:\n",
        "        if not word in self.word2idx:\n",
        "            return self.word2idx[self.unk_word]\n",
        "        return self.word2idx[word]\n",
        "      if type(word) == list:\n",
        "        a = []\n",
        "        for w in word:\n",
        "          if not w in self.word2idx : a.append(self.word2idx[self.unk_word])\n",
        "          else : a.append(self.word2idx[w])\n",
        "        return a\n",
        "    def __len__(self):\n",
        "        return len(self.word2idx)"
      ],
      "metadata": {
        "id": "-8g0Nm3yZfFt"
      },
      "execution_count": 8,
      "outputs": []
    },
    {
      "cell_type": "code",
      "source": [
        "with open('/content/drive/MyDrive/Colab_Notebooks/Seqence_to_Sequence/ferdousi.txt') as f:\n",
        "  ferdousi_text = [line.strip() for line in f.readlines()]\n",
        "ferdousi_text = ferdousi_text[2:]\n",
        "print(f\"num of beyt\", len(ferdousi_text))\n",
        "input_poems = [ferdousi_text[i] for i in range(len(ferdousi_text)) if i % 2 == 0]\n",
        "output_poems = [ferdousi_text[i] for i in range(len(ferdousi_text)) if i % 2 == 1]\n",
        "input_poems, output_poems = input_poems[0:49608], output_poems[0:49608]\n",
        "\n",
        "vocabulary = Vocabulary(\n",
        "    vocab_threshold=0,\n",
        "    vocab_file='/content/drive/MyDrive/Colab_Notebooks/Seqence_to_Sequence/vocab.pkl',\n",
        "    poem_list = input_poems + output_poems)"
      ],
      "metadata": {
        "colab": {
          "base_uri": "https://localhost:8080/"
        },
        "id": "1LdkwI1Z-2_E",
        "outputId": "ab26c90d-0429-4485-9331-cbdcbc66f271"
      },
      "execution_count": 9,
      "outputs": [
        {
          "output_type": "stream",
          "name": "stdout",
          "text": [
            "num of beyt 99217\n",
            "[0/99216] Tokenizing captions...\n",
            "[20000/99216] Tokenizing captions...\n",
            "[40000/99216] Tokenizing captions...\n",
            "[60000/99216] Tokenizing captions...\n",
            "[80000/99216] Tokenizing captions...\n"
          ]
        }
      ]
    },
    {
      "cell_type": "markdown",
      "source": [
        "# Testing our vocab"
      ],
      "metadata": {
        "id": "T-MERsYJRo2x"
      }
    },
    {
      "cell_type": "code",
      "source": [
        "a = \"به نام خداوند جان و خرد کزین برتر اندیشه برنگذرد\"\n",
        "tokens = nltk.tokenize.word_tokenize(str(a).lower())\n",
        "b = [vocabulary(token) for token in tokens]\n",
        "print(a)\n",
        "print(b)\n",
        "print(\"len of vocabulary: \", len(vocabulary))\n",
        "print(vocabulary.idx2word[0])\n",
        "print(vocabulary.idx2word[1])\n",
        "print(vocabulary.idx2word[2])\n",
        "print(vocabulary.idx2word[3])\n",
        "print(vocabulary.idx2word[4])"
      ],
      "metadata": {
        "colab": {
          "base_uri": "https://localhost:8080/"
        },
        "id": "XxL2TvCDaYkH",
        "outputId": "4f01a3d9-57a1-4060-e8a7-6a37000de870"
      },
      "execution_count": 10,
      "outputs": [
        {
          "output_type": "stream",
          "name": "stdout",
          "text": [
            "به نام خداوند جان و خرد کزین برتر اندیشه برنگذرد\n",
            "[3, 4, 5, 6, 7, 8, 394, 60, 23, 7229]\n",
            "len of vocabulary:  17778\n",
            "<sos>\n",
            "<eos>\n",
            "<unk>\n",
            "به\n",
            "نام\n"
          ]
        }
      ]
    },
    {
      "cell_type": "code",
      "source": [
        "vocabulary(\"برنگذرد\")"
      ],
      "metadata": {
        "colab": {
          "base_uri": "https://localhost:8080/"
        },
        "id": "bui5n1VDdi12",
        "outputId": "20671a1b-3f88-4fee-8d0c-a1d9cfe76056"
      },
      "execution_count": 11,
      "outputs": [
        {
          "output_type": "execute_result",
          "data": {
            "text/plain": [
              "7229"
            ]
          },
          "metadata": {},
          "execution_count": 11
        }
      ]
    },
    {
      "cell_type": "markdown",
      "source": [
        "# Spliting data to train, test and val"
      ],
      "metadata": {
        "id": "7U5SNbUISr94"
      }
    },
    {
      "cell_type": "code",
      "source": [
        "X, X_test, y, y_test = train_test_split(input_poems, output_poems, test_size=0.2, random_state=42)\n",
        "X_train, X_val, y_train, y_val = train_test_split(X, y, test_size=0.25, random_state=42)\n",
        "train_data = [[X_train[i], y_train[i]] for i in range(len(X_train))]\n",
        "test_data = [[X_test[i], y_test[i]] for i in range(len(X_test))]\n",
        "val_data = [[X_val[i], y_val[i]] for i in range(len(X_val))]\n",
        "del input_poems, output_poems, X, X_test, y, y_test, X_train, X_val, y_train, y_val"
      ],
      "metadata": {
        "id": "9s2-JGQi_Mys"
      },
      "execution_count": 12,
      "outputs": []
    },
    {
      "cell_type": "code",
      "source": [
        "print(\"train length\", len(train_data),\"\\ntest length\", len(test_data), \"\\nval length\", len(val_data))"
      ],
      "metadata": {
        "colab": {
          "base_uri": "https://localhost:8080/"
        },
        "id": "el4FVCfnCVVF",
        "outputId": "09539243-b5b1-40d9-ec00-95b7c5a0ca1b"
      },
      "execution_count": 13,
      "outputs": [
        {
          "output_type": "stream",
          "name": "stdout",
          "text": [
            "train length 29764 \n",
            "test length 9922 \n",
            "val length 9922\n"
          ]
        }
      ]
    },
    {
      "cell_type": "markdown",
      "source": [
        "# Probing lengt of sentence(mesra')"
      ],
      "metadata": {
        "id": "7b7lGanlTDg_"
      }
    },
    {
      "cell_type": "code",
      "source": [
        "a = [1,2,3]\n",
        "a.reverse()\n",
        "a"
      ],
      "metadata": {
        "colab": {
          "base_uri": "https://localhost:8080/"
        },
        "id": "wil52xK-c-Mx",
        "outputId": "844a6106-aace-482e-f57a-d5678386e8eb"
      },
      "execution_count": 14,
      "outputs": [
        {
          "output_type": "execute_result",
          "data": {
            "text/plain": [
              "[3, 2, 1]"
            ]
          },
          "metadata": {},
          "execution_count": 14
        }
      ]
    },
    {
      "cell_type": "code",
      "source": [
        "s =[]\n",
        "for i in ferdousi_text:\n",
        "  s.append(len(nltk.tokenize.word_tokenize(str(i).lower())))\n",
        "res = np.std(s)\n",
        "mn = np.mean(s)\n",
        "print(mn, res)"
      ],
      "metadata": {
        "colab": {
          "base_uri": "https://localhost:8080/"
        },
        "id": "lCuZN9ohEvMT",
        "outputId": "abd51913-6615-43ac-9fd9-7f85a3b5cd03"
      },
      "execution_count": null,
      "outputs": [
        {
          "output_type": "stream",
          "name": "stdout",
          "text": [
            "5.730721549734421 1.0898380315180556\n"
          ]
        }
      ]
    },
    {
      "cell_type": "markdown",
      "source": [
        "# Constructing Dataloader.\n",
        "vectorize_batch coverts sentenses to token, add start and ending token to sentenses. Also it reverses sequense of tokens. Because it make network to have a beter training process\n",
        "\n",
        "* I'm not sure that all the X and Y should be reversed or not"
      ],
      "metadata": {
        "id": "d3BmFoWET2Vg"
      }
    },
    {
      "cell_type": "code",
      "source": [
        "def vectorize_batch(batch):\n",
        "    length = 9\n",
        "    X, Y = list(zip(*batch))\n",
        "    X = [vocabulary(nltk.tokenize.word_tokenize(sample)) for sample in X]\n",
        "    [x.reverse() for x in X]\n",
        "    X = [sample + ([2] * (length - len(sample))) if len(sample) < length else sample[:length] for sample in X]\n",
        "    Y = [vocabulary(nltk.tokenize.word_tokenize(sample)) for sample in Y]\n",
        "    [y.reverse() for y in Y]\n",
        "    Y = [sample+([2]* (length-len(sample))) if len(sample)<length else sample[:length] for sample in Y]\n",
        "    [x.append(1) for x in X]\n",
        "    [y.append(1) for y in Y]\n",
        "    [x.insert(0, 0) for x in X]\n",
        "    [y.insert(0, 0) for y in Y]\n",
        "    return torch.tensor(X, dtype=torch.int32).transpose(0, 1).to(device), torch.tensor(Y, dtype=torch.int32).transpose(0, 1).to(device)\n",
        "train_data, test_data, val_data = to_map_style_dataset(train_data), to_map_style_dataset(test_data), to_map_style_dataset(val_data)\n",
        "train_loader = DataLoader(train_data, batch_size=512, collate_fn=vectorize_batch)\n",
        "test_loader  = DataLoader(test_data, batch_size=1, collate_fn=vectorize_batch)\n",
        "val_loader  = DataLoader(val_data, batch_size=512, collate_fn=vectorize_batch)"
      ],
      "metadata": {
        "id": "GL2V45Wpeb6p"
      },
      "execution_count": 15,
      "outputs": []
    },
    {
      "cell_type": "markdown",
      "source": [
        "cheking that we have done well"
      ],
      "metadata": {
        "id": "sRKSsHN3U-5G"
      }
    },
    {
      "cell_type": "code",
      "source": [
        "len(train_loader)"
      ],
      "metadata": {
        "colab": {
          "base_uri": "https://localhost:8080/"
        },
        "id": "Kpz8rs3SbS8r",
        "outputId": "cca37299-c4c1-40ea-afb5-7621d2151e3d"
      },
      "execution_count": 17,
      "outputs": [
        {
          "output_type": "execute_result",
          "data": {
            "text/plain": [
              "59"
            ]
          },
          "metadata": {},
          "execution_count": 17
        }
      ]
    },
    {
      "cell_type": "code",
      "source": [
        "data = iter(train_loader)"
      ],
      "metadata": {
        "id": "RCmyOTxUw8RI"
      },
      "execution_count": 18,
      "outputs": []
    },
    {
      "cell_type": "code",
      "source": [
        "first_batch = next(data)"
      ],
      "metadata": {
        "id": "ixMjbw3acIGw"
      },
      "execution_count": 19,
      "outputs": []
    },
    {
      "cell_type": "code",
      "source": [
        "print(first_batch[0])\n",
        "print(first_batch[1].shape)"
      ],
      "metadata": {
        "colab": {
          "base_uri": "https://localhost:8080/"
        },
        "id": "k5uYzRaZxmbI",
        "outputId": "27bedb1c-99c2-4607-e4aa-24929c84b556"
      },
      "execution_count": 20,
      "outputs": [
        {
          "output_type": "stream",
          "name": "stdout",
          "text": [
            "tensor([[    0,     0,     0,  ...,     0,     0,     0],\n",
            "        [  622, 10182,   583,  ...,  2149,   411,   841],\n",
            "        [  371,   199,   188,  ...,   726,   202,  6166],\n",
            "        ...,\n",
            "        [    2,     2,     2,  ...,     2,     2,     2],\n",
            "        [    2,     2,     2,  ...,     2,     2,     2],\n",
            "        [    1,     1,     1,  ...,     1,     1,     1]], device='cuda:0',\n",
            "       dtype=torch.int32)\n",
            "torch.Size([11, 512])\n"
          ]
        }
      ]
    },
    {
      "cell_type": "code",
      "source": [
        "for X, Y in train_loader:\n",
        "    print(X.shape, Y.shape)\n",
        "    break"
      ],
      "metadata": {
        "colab": {
          "base_uri": "https://localhost:8080/"
        },
        "id": "M73L_oFH2Cqa",
        "outputId": "885f49fc-9feb-4530-ff6e-a2d89ddca700"
      },
      "execution_count": 21,
      "outputs": [
        {
          "output_type": "stream",
          "name": "stdout",
          "text": [
            "torch.Size([11, 512]) torch.Size([11, 512])\n"
          ]
        }
      ]
    },
    {
      "cell_type": "code",
      "source": [
        "first_batch[0][:,0].shape"
      ],
      "metadata": {
        "colab": {
          "base_uri": "https://localhost:8080/"
        },
        "id": "kiFkNJRr2ahg",
        "outputId": "c686610c-2a1c-454f-ebd3-22a58eacfcce"
      },
      "execution_count": 22,
      "outputs": [
        {
          "output_type": "execute_result",
          "data": {
            "text/plain": [
              "torch.Size([11])"
            ]
          },
          "metadata": {},
          "execution_count": 22
        }
      ]
    },
    {
      "cell_type": "code",
      "source": [
        "vocabulary.idx2word[4]"
      ],
      "metadata": {
        "colab": {
          "base_uri": "https://localhost:8080/",
          "height": 36
        },
        "id": "sEGlrOuQavtk",
        "outputId": "b3dcf10a-d913-491f-dc34-f78ce1899aa3"
      },
      "execution_count": 23,
      "outputs": [
        {
          "output_type": "execute_result",
          "data": {
            "text/plain": [
              "'نام'"
            ],
            "application/vnd.google.colaboratory.intrinsic+json": {
              "type": "string"
            }
          },
          "metadata": {},
          "execution_count": 23
        }
      ]
    },
    {
      "cell_type": "code",
      "source": [
        "second_batch = next(iter(train_loader))"
      ],
      "metadata": {
        "id": "wSTkDVLxbs6h"
      },
      "execution_count": 24,
      "outputs": []
    },
    {
      "cell_type": "code",
      "source": [
        "s = []\n",
        "for i in second_batch[0][:,1]:\n",
        "  print(int(i))\n",
        "  s.append(vocabulary.idx2word[int(i)])\n",
        "print(s)"
      ],
      "metadata": {
        "colab": {
          "base_uri": "https://localhost:8080/"
        },
        "id": "9F2BLkjk2jRe",
        "outputId": "e37ad416-4488-435d-b090-728fae627ba7"
      },
      "execution_count": 25,
      "outputs": [
        {
          "output_type": "stream",
          "name": "stdout",
          "text": [
            "0\n",
            "10182\n",
            "199\n",
            "58\n",
            "509\n",
            "83\n",
            "21\n",
            "2\n",
            "2\n",
            "2\n",
            "1\n",
            "['<sos>', 'کارمنست', 'نه', 'این', 'شاه', 'گفت', 'بدو', '<unk>', '<unk>', '<unk>', '<eos>']\n"
          ]
        }
      ]
    },
    {
      "cell_type": "markdown",
      "source": [
        "Encoder is used to covert our embedding data to a spaca that we dont know what is it\n",
        "\n",
        "* emb_dim: embedding dimention\n",
        "\n",
        "* hid_dim: hidden dimension\n",
        "\n",
        "* n_layers: number of layer"
      ],
      "metadata": {
        "id": "agrHitzLVjw3"
      }
    },
    {
      "cell_type": "code",
      "source": [
        "class Encoder(nn.Module):\n",
        "\n",
        "    def __init__(self, input_dim, emb_dim, hid_dim, n_layers, dropout):\n",
        "\n",
        "        super().__init__()\n",
        "        self.hid_dim = hid_dim\n",
        "        self.n_layers = n_layers\n",
        "        self.embedding = nn.Embedding(input_dim, emb_dim)\n",
        "        self.rnn = nn.LSTM(emb_dim, hid_dim, n_layers, dropout = dropout)\n",
        "        self.dropout = nn.Dropout(dropout)\n",
        "    def forward(self, src):\n",
        "\n",
        "        embedded = self.dropout(self.embedding(src))\n",
        "        outputs, (hidden, cell) = self.rnn(embedded)\n",
        "        return hidden, cell"
      ],
      "metadata": {
        "id": "ODcx_cKE22jd"
      },
      "execution_count": 26,
      "outputs": []
    },
    {
      "cell_type": "markdown",
      "source": [
        "Decoder is bulit using LSTM and a linear layer to creat our embedding data"
      ],
      "metadata": {
        "id": "eQubcvlTWu1u"
      }
    },
    {
      "cell_type": "code",
      "source": [
        "class Decoder(nn.Module):\n",
        "\n",
        "    def __init__(self, output_dim, emb_dim, hid_dim, n_layers, dropout):\n",
        "\n",
        "        super().__init__()\n",
        "        self.output_dim = output_dim\n",
        "        self.hid_dim = hid_dim\n",
        "        self.n_layers = n_layers\n",
        "        self.embedding = nn.Embedding(output_dim, emb_dim)\n",
        "        self.rnn = nn.LSTM(emb_dim, hid_dim, n_layers, dropout = dropout)\n",
        "        self.fc_out = nn.Linear(hid_dim, output_dim)\n",
        "        self.dropout = nn.Dropout(dropout)\n",
        "        self.probs = nn.Softmax(dim=1)\n",
        "\n",
        "    def forward(self, input, hidden, cell):\n",
        "\n",
        "        input = input.unsqueeze(0)\n",
        "        embedded = self.dropout(self.embedding(input))\n",
        "        output, (hidden, cell) = self.rnn(embedded, (hidden, cell))\n",
        "        prediction = self.fc_out(output.squeeze(0))\n",
        "        return self.probs(prediction), hidden, cell"
      ],
      "metadata": {
        "id": "OxlFJolCWVVd"
      },
      "execution_count": null,
      "outputs": []
    },
    {
      "cell_type": "code",
      "source": [
        "class Seq2Seq(nn.Module):\n",
        "    def __init__(self, encoder, decoder, device):\n",
        "        super().__init__()\n",
        "\n",
        "        self.encoder = encoder\n",
        "        self.decoder = decoder\n",
        "        self.device = device\n",
        "\n",
        "        assert encoder.hid_dim == decoder.hid_dim, \"Hidden dimensions of encoder and decoder must be equal!\"\n",
        "        assert encoder.n_layers == decoder.n_layers, \"Encoder and decoder must have equal number of layers!\"\n",
        "    def init_hidden(self, trg_shape):\n",
        "\n",
        "        trg_vocab_size = self.decoder.output_dim\n",
        "        batch_size = trg_shape[1]\n",
        "        trg_len = trg_shape[0]\n",
        "        return torch.zeros(trg_len, batch_size, trg_vocab_size).to(self.device)\n",
        "\n",
        "    def forward(self, src, trg, teacher_forcing_ratio = 0.5):\n",
        "\n",
        "        trg_shape = trg.shape\n",
        "        trg_len = trg_shape[0]\n",
        "        outputs = self.init_hidden(trg_shape)\n",
        "        hidden, cell = self.encoder(src)\n",
        "        input = trg[0,:]\n",
        "        for t in range(1, trg_len):\n",
        "            output, hidden, cell = self.decoder(input, hidden, cell)\n",
        "            outputs[t] = output\n",
        "            teacher_force = random.random() < teacher_forcing_ratio\n",
        "            top1 = output.argmax(1)\n",
        "            input = trg[t] if teacher_force else top1\n",
        "        return outputs"
      ],
      "metadata": {
        "id": "X2ptYMNNZaco"
      },
      "execution_count": null,
      "outputs": []
    },
    {
      "cell_type": "code",
      "source": [
        "seed = 71\n",
        "random.seed(seed)\n",
        "np.random.seed(seed)\n",
        "torch.manual_seed(seed)\n",
        "torch.cuda.manual_seed(seed)\n",
        "torch.backends.cudnn.deterministic = True\n",
        "\n",
        "input_dim = len(vocabulary)\n",
        "output_dim = len(vocabulary)\n",
        "enc_emb_dim = 256\n",
        "dec_emb_dim = 256\n",
        "hid_dim = 512\n",
        "n_layer = 2\n",
        "enc_dropout = 0.5\n",
        "dec_dropout = 0.5\n",
        "\n",
        "enc = Encoder(input_dim, enc_emb_dim, hid_dim, n_layer, enc_dropout)\n",
        "dec = Decoder(output_dim, dec_emb_dim, hid_dim, n_layer, dec_dropout)\n",
        "model = Seq2Seq(enc, dec, device).to(device)\n",
        "\n",
        "def init_weights(m):\n",
        "    for name, param in m.named_parameters():\n",
        "        nn.init.uniform_(param.data, -0.08, 0.08)\n",
        "\n",
        "model.apply(init_weights)"
      ],
      "metadata": {
        "id": "7LZoZO8FaB_o",
        "colab": {
          "base_uri": "https://localhost:8080/"
        },
        "outputId": "f0881fa9-09fd-4cc8-94e9-30336f591faf"
      },
      "execution_count": null,
      "outputs": [
        {
          "output_type": "execute_result",
          "data": {
            "text/plain": [
              "Seq2Seq(\n",
              "  (encoder): Encoder(\n",
              "    (embedding): Embedding(17778, 256)\n",
              "    (rnn): LSTM(256, 512, num_layers=2, dropout=0.5)\n",
              "    (dropout): Dropout(p=0.5, inplace=False)\n",
              "  )\n",
              "  (decoder): Decoder(\n",
              "    (embedding): Embedding(17778, 256)\n",
              "    (rnn): LSTM(256, 512, num_layers=2, dropout=0.5)\n",
              "    (fc_out): Linear(in_features=512, out_features=17778, bias=True)\n",
              "    (dropout): Dropout(p=0.5, inplace=False)\n",
              "    (probs): Softmax(dim=1)\n",
              "  )\n",
              ")"
            ]
          },
          "metadata": {},
          "execution_count": 197
        }
      ]
    },
    {
      "cell_type": "code",
      "source": [
        "def count_parameters(model):\n",
        "    return sum(p.numel() for p in model.parameters() if p.requires_grad)\n",
        "\n",
        "print(f'The model has {count_parameters(model):,} trainable parameters')"
      ],
      "metadata": {
        "colab": {
          "base_uri": "https://localhost:8080/"
        },
        "id": "PgdAYkxMalu6",
        "outputId": "2aa44ba7-2417-48e5-b647-c05d6498af69"
      },
      "execution_count": null,
      "outputs": [
        {
          "output_type": "stream",
          "name": "stdout",
          "text": [
            "The model has 25,578,866 trainable parameters\n"
          ]
        }
      ]
    },
    {
      "cell_type": "code",
      "source": [
        "optimizer = optim.Adam(model.parameters())\n",
        "target_padding_index = vocabulary(\"<unk>\")\n",
        "criterion = nn.CrossEntropyLoss(ignore_index = target_padding_index).to(device)"
      ],
      "metadata": {
        "id": "xF7EZykaaxXw"
      },
      "execution_count": null,
      "outputs": []
    },
    {
      "cell_type": "code",
      "source": [
        "len(first_batch[1])"
      ],
      "metadata": {
        "colab": {
          "base_uri": "https://localhost:8080/"
        },
        "id": "N53u5sV4Uw6s",
        "outputId": "63a788da-82f8-4ffc-e0be-29cca1845e30"
      },
      "execution_count": null,
      "outputs": [
        {
          "output_type": "execute_result",
          "data": {
            "text/plain": [
              "11"
            ]
          },
          "metadata": {},
          "execution_count": 200
        }
      ]
    },
    {
      "cell_type": "code",
      "source": [
        "def evaluate(model, iterator, criterion):\n",
        "    model.eval()\n",
        "    epoch_loss = 0\n",
        "    correct = 0\n",
        "    ns = 0\n",
        "    with torch.no_grad():\n",
        "        for i, batch in enumerate(iterator):\n",
        "            src, trg = batch\n",
        "            output = model(src, trg, 0)\n",
        "            output_dim = output.shape[-1]\n",
        "            output = output[1:].view(-1, output_dim)\n",
        "            trg = trg[1:,].reshape(output.shape[0])\n",
        "            trg = trg.type(torch.LongTensor).to(device)\n",
        "            loss = criterion(output, trg)\n",
        "            correct += (output.argmax(1) == trg).type(torch.float).sum().item()\n",
        "            ns += src.shape[1]\n",
        "            epoch_loss += loss.item()\n",
        "    correct /= ns\n",
        "    return correct , epoch_loss / len(iterator)\n",
        "\n",
        "\n",
        "def train(model, iterator, optimizer, criterion, clip):\n",
        "    epoch_loss = 0\n",
        "    ns = 0\n",
        "    aize = len(iterator)\n",
        "    correct = 0\n",
        "    for i, batch in enumerate(iterator):\n",
        "        src, trg = batch\n",
        "        optimizer.zero_grad()\n",
        "        output = model(src, trg)\n",
        "        output_dim = output.shape[-1]\n",
        "        output = output[1:,].view(-1, output_dim)\n",
        "        trg = trg[1:,].reshape(output.shape[0])\n",
        "        trg = trg.type(torch.LongTensor).to(device)\n",
        "        loss = criterion(output, trg)\n",
        "        correct += (output.argmax(1) == trg).type(torch.float).sum().item()\n",
        "        loss.backward()\n",
        "        torch.nn.utils.clip_grad_norm_(model.parameters(), clip)\n",
        "        optimizer.step()\n",
        "        ns += src.shape[1]\n",
        "        epoch_loss += loss.item()\n",
        "    correct /= ns\n",
        "    return correct, epoch_loss / len(iterator)"
      ],
      "metadata": {
        "id": "7DCnT1C8b708"
      },
      "execution_count": null,
      "outputs": []
    },
    {
      "cell_type": "code",
      "source": [
        "def epoch_time(start_time, end_time):\n",
        "    elapsed_time = end_time - start_time\n",
        "    elapsed_mins = int(elapsed_time / 60)\n",
        "    elapsed_secs = int(elapsed_time - (elapsed_mins * 60))\n",
        "    return elapsed_mins, elapsed_secs"
      ],
      "metadata": {
        "id": "qhNbBDRkb_7n"
      },
      "execution_count": null,
      "outputs": []
    },
    {
      "cell_type": "code",
      "source": [
        "N_EPOCHS = 10\n",
        "CLIP = 1\n",
        "\n",
        "best_valid_loss = float('inf')\n",
        "train_history = []\n",
        "val_history = []\n",
        "for epoch in range(N_EPOCHS):\n",
        "    model.train()\n",
        "    start_time = time.time()\n",
        "\n",
        "    train_acc, train_loss = train(model, train_loader, optimizer, criterion, CLIP)\n",
        "    val_acc, valid_loss = evaluate(model, val_loader, criterion)\n",
        "    train_history += [train_loss]\n",
        "    val_history += [valid_loss]\n",
        "    end_time = time.time()\n",
        "\n",
        "    epoch_mins, epoch_secs = epoch_time(start_time, end_time)\n",
        "\n",
        "    if valid_loss < best_valid_loss:\n",
        "        best_valid_loss = valid_loss\n",
        "        torch.save(model.state_dict(), 'tut1-model.pt')\n",
        "\n",
        "    print(f'Epoch: {epoch+1:02} | Time: {epoch_mins}m {epoch_secs}s')\n",
        "    print(f'\\tTrain Loss: {train_loss:.3f} | Train PPL: {math.exp(train_loss):7.3f} | Train acc: {train_acc:.3f}')\n",
        "    print(f'\\t Val. Loss: {valid_loss:.3f} |  Val. PPL: {math.exp(valid_loss):7.3f} | Val acc: {val_acc:.3f}')\n",
        "plt.plot(range(epoch+1), train_history)\n",
        "plt.plot(range(epoch+1), val_history)\n",
        "plt.plot()"
      ],
      "metadata": {
        "id": "ZJBA90zzcDx0",
        "colab": {
          "base_uri": "https://localhost:8080/",
          "height": 803
        },
        "outputId": "315c84c5-87c2-48e0-c6f4-209c5037ccb1"
      },
      "execution_count": null,
      "outputs": [
        {
          "output_type": "stream",
          "name": "stdout",
          "text": [
            "Epoch: 01 | Time: 0m 29s\n",
            "\tTrain Loss: 9.636 | Train PPL: 15299.318 | Train acc: 1.128\n",
            "\t Val. Loss: 9.594 |  Val. PPL: 14675.644 | Val acc: 1.289\n",
            "Epoch: 02 | Time: 0m 29s\n",
            "\tTrain Loss: 9.595 | Train PPL: 14688.745 | Train acc: 1.284\n",
            "\t Val. Loss: 9.594 |  Val. PPL: 14674.309 | Val acc: 1.289\n",
            "Epoch: 03 | Time: 0m 29s\n",
            "\tTrain Loss: 9.595 | Train PPL: 14688.235 | Train acc: 1.284\n",
            "\t Val. Loss: 9.594 |  Val. PPL: 14674.225 | Val acc: 1.289\n",
            "Epoch: 04 | Time: 0m 29s\n",
            "\tTrain Loss: 9.595 | Train PPL: 14688.158 | Train acc: 1.284\n",
            "\t Val. Loss: 9.594 |  Val. PPL: 14674.150 | Val acc: 1.289\n",
            "Epoch: 05 | Time: 0m 29s\n",
            "\tTrain Loss: 9.595 | Train PPL: 14688.036 | Train acc: 1.284\n",
            "\t Val. Loss: 9.594 |  Val. PPL: 14674.058 | Val acc: 1.289\n",
            "Epoch: 06 | Time: 0m 29s\n",
            "\tTrain Loss: 9.595 | Train PPL: 14687.619 | Train acc: 1.284\n",
            "\t Val. Loss: 9.594 |  Val. PPL: 14673.966 | Val acc: 1.289\n",
            "Epoch: 07 | Time: 0m 29s\n",
            "\tTrain Loss: 9.595 | Train PPL: 14687.434 | Train acc: 1.284\n",
            "\t Val. Loss: 9.594 |  Val. PPL: 14673.950 | Val acc: 1.289\n",
            "Epoch: 08 | Time: 0m 29s\n",
            "\tTrain Loss: 9.595 | Train PPL: 14687.348 | Train acc: 1.284\n",
            "\t Val. Loss: 9.594 |  Val. PPL: 14674.015 | Val acc: 1.289\n",
            "Epoch: 09 | Time: 0m 29s\n",
            "\tTrain Loss: 9.595 | Train PPL: 14687.311 | Train acc: 1.284\n",
            "\t Val. Loss: 9.594 |  Val. PPL: 14674.075 | Val acc: 1.289\n",
            "Epoch: 10 | Time: 0m 29s\n",
            "\tTrain Loss: 9.595 | Train PPL: 14687.304 | Train acc: 1.284\n",
            "\t Val. Loss: 9.594 |  Val. PPL: 14674.255 | Val acc: 1.289\n"
          ]
        },
        {
          "output_type": "execute_result",
          "data": {
            "text/plain": [
              "[]"
            ]
          },
          "metadata": {},
          "execution_count": 203
        },
        {
          "output_type": "display_data",
          "data": {
            "text/plain": [
              "<Figure size 432x288 with 1 Axes>"
            ],
            "image/png": "[encoded data removed]"
          },
          "metadata": {
            "needs_background": "light"
          }
        }
      ]
    },
    {
      "cell_type": "code",
      "source": [
        "model.load_state_dict(torch.load('tut1-model.pt'))\n",
        "acc, test_loss = evaluate(model, test_loader, criterion)"
      ],
      "metadata": {
        "id": "88olozMHH-iZ"
      },
      "execution_count": null,
      "outputs": []
    },
    {
      "cell_type": "code",
      "source": [
        "print(f'| Test Loss: {test_loss:.3f} | Test PPL: {np.exp(test_loss):7.3f} |')"
      ],
      "metadata": {
        "colab": {
          "base_uri": "https://localhost:8080/"
        },
        "id": "uSRCdzKLKZVZ",
        "outputId": "981cd442-cd06-4ea4-bd53-473b55c6b188"
      },
      "execution_count": null,
      "outputs": [
        {
          "output_type": "stream",
          "name": "stdout",
          "text": [
            "| Test Loss: 9.592 | Test PPL: 14654.234 |\n"
          ]
        }
      ]
    },
    {
      "cell_type": "markdown",
      "source": [
        "##Part b"
      ],
      "metadata": {
        "id": "HS9vZ0cxlDTe"
      }
    },
    {
      "cell_type": "code",
      "source": [
        "class Encoder(nn.Module):\n",
        "\n",
        "    def __init__(self, input_dim, emb_dim, hid_dim, dropout):\n",
        "\n",
        "        super().__init__()\n",
        "        self.hid_dim = hid_dim\n",
        "        self.embedding = nn.Embedding(input_dim, emb_dim)\n",
        "        self.dropout = nn.Dropout(dropout)\n",
        "        self.fc = nn.Linear(hid_dim * 2, hid_dim)\n",
        "        self.rnn = nn.GRU(emb_dim, hid_dim, bidirectional= True)\n",
        "    def forward(self, src):\n",
        "\n",
        "        embedded = self.dropout(self.embedding(src))\n",
        "        outputs, hidden = self.rnn(embedded)\n",
        "        hidden = torch.tanh(self.fc(torch.cat((hidden[-2,:,:], hidden[-1,:,:]), dim = 1)))\n",
        "        return hidden"
      ],
      "metadata": {
        "id": "AhiELBkPm5W1"
      },
      "execution_count": null,
      "outputs": []
    },
    {
      "cell_type": "code",
      "source": [
        "class Decoder(nn.Module):\n",
        "\n",
        "    def __init__(self, output_dim, emb_dim, hid_dim, dropout):\n",
        "\n",
        "        super().__init__()\n",
        "        self.hid_dim = hid_dim\n",
        "        self.output_dim = output_dim\n",
        "        self.embedding = nn.Embedding(output_dim, emb_dim)\n",
        "        self.rnn = nn.GRU(emb_dim + hid_dim, hid_dim)\n",
        "        self.fc_out = nn.Linear(emb_dim + hid_dim * 2, output_dim)\n",
        "        self.dropout = nn.Dropout(dropout)\n",
        "        self.probs = nn.Softmax(dim=1)\n",
        "    def forward(self, input, hidden, context):\n",
        "        input = input.unsqueeze(0)\n",
        "        embedded = self.dropout(self.embedding(input))\n",
        "        # print(\"embedded shape\", embedded.shape, \"context\",  context.shape)\n",
        "        emb_con = torch.cat((embedded, context), dim = 2)\n",
        "        output, hidden = self.rnn(emb_con, hidden)\n",
        "        output = torch.cat((embedded.squeeze(0), hidden.squeeze(0), context.squeeze(0)), dim = 1)\n",
        "        prediction = self.fc_out(output)\n",
        "        return prediction, hidden"
      ],
      "metadata": {
        "id": "A-e4hk15raPk"
      },
      "execution_count": null,
      "outputs": []
    },
    {
      "cell_type": "code",
      "source": [
        "class Seq2Seq(nn.Module):\n",
        "    def __init__(self, encoder, decoder, device):\n",
        "        super().__init__()\n",
        "        self.encoder = encoder\n",
        "        self.decoder = decoder\n",
        "        self.device = device\n",
        "        self.probs = nn.Softmax(dim=1)\n",
        "        assert encoder.hid_dim == decoder.hid_dim, \"Hidden dimensions of encoder and decoder must be equal!\"\n",
        "    def init_hidden(self, trg_shape):\n",
        "        trg_vocab_size = self.decoder.output_dim\n",
        "        batch_size = trg_shape[1]\n",
        "        trg_len = trg_shape[0]\n",
        "        return torch.zeros(trg_len, batch_size, trg_vocab_size).to(self.device)\n",
        "    def forward(self, src, trg, teacher_forcing_ratio = 0.5):\n",
        "        trg_len = trg.shape[0]\n",
        "        trg_shape = trg.shape\n",
        "        trg_vocab_size = self.decoder.output_dim\n",
        "        outputs = self.init_hidden(trg_shape)\n",
        "        context = self.encoder(src)\n",
        "        context = context.unsqueeze(0)\n",
        "        hidden = context\n",
        "        input = trg[0,:]\n",
        "        for t in range(1, trg_len):\n",
        "            output, hidden = self.decoder(input, hidden, context)\n",
        "            outputs[t] = output\n",
        "            teacher_force = random.random() < teacher_forcing_ratio\n",
        "            top1 = output.argmax(1)\n",
        "            input = trg[t] if teacher_force else top1\n",
        "        return outputs"
      ],
      "metadata": {
        "id": "-SLP5K2AtJG2"
      },
      "execution_count": null,
      "outputs": []
    },
    {
      "cell_type": "code",
      "source": [
        "seed = 68\n",
        "random.seed(seed)\n",
        "np.random.seed(seed)\n",
        "torch.manual_seed(seed)\n",
        "torch.cuda.manual_seed(seed)\n",
        "torch.backends.cudnn.deterministic = True\n",
        "\n",
        "input_dim = len(vocabulary)\n",
        "output_dim = len(vocabulary)\n",
        "enc_emb_dim = 256\n",
        "dec_emb_dim = 256\n",
        "hid_dim = 512\n",
        "enc_dropout = 0.5\n",
        "dec_dropout = 0.5\n",
        "\n",
        "enc = Encoder(len(vocabulary), 256, 512, 0.5)\n",
        "dec = Decoder(len(vocabulary), 256, 512, 0.5)\n",
        "model = Seq2Seq(enc, dec, device).to(device)\n",
        "\n",
        "def init_weights(m):\n",
        "    for name, param in m.named_parameters():\n",
        "        nn.init.normal_(param.data, mean=0, std=0.01)\n",
        "\n",
        "model.apply(init_weights)"
      ],
      "metadata": {
        "colab": {
          "base_uri": "https://localhost:8080/"
        },
        "id": "apbvYnBwur-s",
        "outputId": "be76ec7c-295f-43d6-ebed-0b49d7f5b0d9"
      },
      "execution_count": null,
      "outputs": [
        {
          "output_type": "execute_result",
          "data": {
            "text/plain": [
              "Seq2Seq(\n",
              "  (encoder): Encoder(\n",
              "    (embedding): Embedding(17778, 256)\n",
              "    (dropout): Dropout(p=0.5, inplace=False)\n",
              "    (fc): Linear(in_features=1024, out_features=512, bias=True)\n",
              "    (rnn): GRU(256, 512, bidirectional=True)\n",
              "  )\n",
              "  (decoder): Decoder(\n",
              "    (embedding): Embedding(17778, 256)\n",
              "    (rnn): GRU(768, 512)\n",
              "    (fc_out): Linear(in_features=1280, out_features=17778, bias=True)\n",
              "    (dropout): Dropout(p=0.5, inplace=False)\n",
              "    (probs): Softmax(dim=1)\n",
              "  )\n",
              "  (probs): Softmax(dim=1)\n",
              ")"
            ]
          },
          "metadata": {},
          "execution_count": 265
        }
      ]
    },
    {
      "cell_type": "code",
      "source": [
        "def count_parameters(model):\n",
        "    return sum(p.numel() for p in model.parameters() if p.requires_grad)\n",
        "\n",
        "print(f'The model has {count_parameters(model):,} trainable parameters')"
      ],
      "metadata": {
        "colab": {
          "base_uri": "https://localhost:8080/"
        },
        "id": "slZO_i7Evbpe",
        "outputId": "c86c59d3-2c79-4496-b4f7-8e22a392be8b"
      },
      "execution_count": null,
      "outputs": [
        {
          "output_type": "stream",
          "name": "stdout",
          "text": [
            "The model has 36,735,346 trainable parameters\n"
          ]
        }
      ]
    },
    {
      "cell_type": "code",
      "source": [
        "optimizer = optim.Adam(model.parameters())\n",
        "target_padding_index = vocabulary(\"<unk>\")\n",
        "criterion = nn.CrossEntropyLoss(ignore_index = target_padding_index).to(device)"
      ],
      "metadata": {
        "id": "7Wcd5gYDvqYo"
      },
      "execution_count": null,
      "outputs": []
    },
    {
      "cell_type": "code",
      "source": [
        "def epoch_time(start_time, end_time):\n",
        "    elapsed_time = end_time - start_time\n",
        "    elapsed_mins = int(elapsed_time / 60)\n",
        "    elapsed_secs = int(elapsed_time - (elapsed_mins * 60))\n",
        "    return elapsed_mins, elapsed_secs"
      ],
      "metadata": {
        "id": "qfq1LBedzo22"
      },
      "execution_count": null,
      "outputs": []
    },
    {
      "cell_type": "code",
      "source": [
        "def train(model, iterator, optimizer, criterion, clip):\n",
        "    model.train()\n",
        "    epoch_loss = 0\n",
        "    ns = 0\n",
        "    aize = len(iterator)\n",
        "    correct = 0\n",
        "    for i, batch in enumerate(iterator):\n",
        "        src, trg = batch\n",
        "        optimizer.zero_grad()\n",
        "        output = model(src, trg)\n",
        "        output_dim = output.shape[-1]\n",
        "        output = output[1:,].view(-1, output_dim)\n",
        "        trg = trg[1:,].reshape(output.shape[0])\n",
        "        trg = trg.type(torch.LongTensor).to(device)\n",
        "        loss = criterion(output, trg)\n",
        "        correct += (output.argmax(1) == trg).type(torch.float).sum().item()\n",
        "        loss.backward()\n",
        "        torch.nn.utils.clip_grad_norm_(model.parameters(), clip)\n",
        "        optimizer.step()\n",
        "        ns += src.shape[1]\n",
        "        epoch_loss += loss.item()\n",
        "    correct /= ns\n",
        "    return correct, epoch_loss / len(iterator)\n",
        "\n",
        "def evaluate(model, iterator, criterion):\n",
        "    epoch_loss = 0\n",
        "    correct = 0\n",
        "    ns = 0\n",
        "    with torch.no_grad():\n",
        "        for i, batch in enumerate(iterator):\n",
        "            src, trg = batch\n",
        "            output = model(src, trg, 0)\n",
        "            output_dim = output.shape[-1]\n",
        "            output = output[1:].view(-1, output_dim)\n",
        "            trg = trg[1:,].reshape(output.shape[0])\n",
        "            trg = trg.type(torch.LongTensor).to(device)\n",
        "            loss = criterion(output, trg)\n",
        "            correct += (output.argmax(1) == trg).type(torch.float).sum().item()\n",
        "            ns += src.shape[1]\n",
        "            epoch_loss += loss.item()\n",
        "    correct /= ns\n",
        "    return correct , epoch_loss / len(iterator)"
      ],
      "metadata": {
        "id": "H6RkmiDm8nK1"
      },
      "execution_count": null,
      "outputs": []
    },
    {
      "cell_type": "code",
      "source": [
        "def vectorize_batch(batch):\n",
        "    length = 10\n",
        "    X, Y = list(zip(*batch))\n",
        "    X = [vocabulary(nltk.tokenize.word_tokenize(sample)) for sample in X]\n",
        "    X = [sample+([2]* (length-len(sample))) if len(sample) < length else sample[:length] for sample in X]\n",
        "    Y = [vocabulary(nltk.tokenize.word_tokenize(sample)) for sample in Y]\n",
        "    Y = [sample+([2]* (length-len(sample))) if len(sample)<length else sample[:length] for sample in Y]\n",
        "    [x.append(1) for x in X]\n",
        "    [y.append(1) for y in Y]\n",
        "    [x.insert(0,0) for x in X]\n",
        "    [y.insert(0,0) for y in Y]\n",
        "    return torch.tensor(X, dtype=torch.int32).transpose(0, 1).to(device), torch.tensor(Y, dtype=torch.int32).transpose(0, 1).to(device)\n",
        "train_data, test_data, val_data = to_map_style_dataset(train_data), to_map_style_dataset(test_data), to_map_style_dataset(val_data)\n",
        "train_loader = DataLoader(train_data, batch_size=512, collate_fn=vectorize_batch)\n",
        "test_loader  = DataLoader(test_data, batch_size=1, collate_fn=vectorize_batch)\n",
        "val_loader  = DataLoader(val_data, batch_size=512, collate_fn=vectorize_batch)"
      ],
      "metadata": {
        "id": "YpPwapayLaTG"
      },
      "execution_count": null,
      "outputs": []
    },
    {
      "cell_type": "code",
      "source": [
        "N_EPOCHS = 10\n",
        "CLIP = 1\n",
        "\n",
        "best_valid_loss = float('inf')\n",
        "train_history = []\n",
        "val_history = []\n",
        "for epoch in range(N_EPOCHS):\n",
        "\n",
        "    start_time = time.time()\n",
        "    train_acc, train_loss = train(model, train_loader, optimizer, criterion, CLIP)\n",
        "    model.eval()\n",
        "    val_acc, valid_loss = evaluate(model, val_loader, criterion)\n",
        "    train_history += [train_loss]\n",
        "    val_history += [valid_loss]\n",
        "    end_time = time.time()\n",
        "\n",
        "    epoch_mins, epoch_secs = epoch_time(start_time, end_time)\n",
        "\n",
        "    if valid_loss < best_valid_loss:\n",
        "        best_valid_loss = valid_loss\n",
        "        torch.save(model.state_dict(), 'tut2-model.pt')\n",
        "\n",
        "    print(f'Epoch: {epoch+1:02} | Time: {epoch_mins}m {epoch_secs}s')\n",
        "    print(f'\\tTrain Loss: {train_loss:.3f} | Train PPL: {math.exp(train_loss):7.3f} | Train acc: {train_acc:.3f}')\n",
        "    print(f'\\t Val. Loss: {valid_loss:.3f} |  Val. PPL: {math.exp(valid_loss):7.3f} | Val acc: {val_acc:.3f}')\n",
        "plt.plot(range(epoch+1), train_history)\n",
        "plt.plot(range(epoch+1), val_history)\n",
        "plt.plot()"
      ],
      "metadata": {
        "id": "wkbv5cBvzpDM",
        "colab": {
          "base_uri": "https://localhost:8080/",
          "height": 803
        },
        "outputId": "887a230e-1645-4f72-d3d5-ce7aeb596ece"
      },
      "execution_count": null,
      "outputs": [
        {
          "output_type": "stream",
          "name": "stdout",
          "text": [
            "Epoch: 01 | Time: 0m 35s\n",
            "\tTrain Loss: 6.620 | Train PPL: 749.776 | Train acc: 1.237\n",
            "\t Val. Loss: 6.052 |  Val. PPL: 424.929 | Val acc: 1.383\n",
            "Epoch: 02 | Time: 0m 35s\n",
            "\tTrain Loss: 5.909 | Train PPL: 368.455 | Train acc: 1.385\n",
            "\t Val. Loss: 6.027 |  Val. PPL: 414.455 | Val acc: 1.359\n",
            "Epoch: 03 | Time: 0m 35s\n",
            "\tTrain Loss: 5.841 | Train PPL: 344.229 | Train acc: 1.396\n",
            "\t Val. Loss: 6.031 |  Val. PPL: 416.029 | Val acc: 1.385\n",
            "Epoch: 04 | Time: 0m 35s\n",
            "\tTrain Loss: 5.778 | Train PPL: 323.056 | Train acc: 1.423\n",
            "\t Val. Loss: 6.026 |  Val. PPL: 414.064 | Val acc: 1.384\n",
            "Epoch: 05 | Time: 0m 35s\n",
            "\tTrain Loss: 5.719 | Train PPL: 304.670 | Train acc: 1.439\n",
            "\t Val. Loss: 6.031 |  Val. PPL: 416.292 | Val acc: 1.384\n",
            "Epoch: 06 | Time: 0m 35s\n",
            "\tTrain Loss: 5.683 | Train PPL: 293.913 | Train acc: 1.448\n",
            "\t Val. Loss: 6.037 |  Val. PPL: 418.808 | Val acc: 1.385\n",
            "Epoch: 07 | Time: 0m 36s\n",
            "\tTrain Loss: 5.641 | Train PPL: 281.659 | Train acc: 1.467\n",
            "\t Val. Loss: 6.038 |  Val. PPL: 419.111 | Val acc: 1.384\n",
            "Epoch: 08 | Time: 0m 35s\n",
            "\tTrain Loss: 5.604 | Train PPL: 271.408 | Train acc: 1.487\n",
            "\t Val. Loss: 6.038 |  Val. PPL: 419.110 | Val acc: 1.384\n",
            "Epoch: 09 | Time: 0m 35s\n",
            "\tTrain Loss: 5.576 | Train PPL: 264.141 | Train acc: 1.495\n",
            "\t Val. Loss: 6.034 |  Val. PPL: 417.425 | Val acc: 1.385\n",
            "Epoch: 10 | Time: 0m 35s\n",
            "\tTrain Loss: 5.546 | Train PPL: 256.137 | Train acc: 1.504\n",
            "\t Val. Loss: 6.286 |  Val. PPL: 536.964 | Val acc: 1.385\n"
          ]
        },
        {
          "output_type": "execute_result",
          "data": {
            "text/plain": [
              "[]"
            ]
          },
          "metadata": {},
          "execution_count": 271
        },
        {
          "output_type": "display_data",
          "data": {
            "text/plain": [
              "<Figure size 432x288 with 1 Axes>"
            ],
            "image/png": "[encoded data removed]"
          },
          "metadata": {
            "needs_background": "light"
          }
        }
      ]
    },
    {
      "cell_type": "code",
      "source": [
        "model.load_state_dict(torch.load('tut2-model.pt'))\n",
        "acc_test, test_loss = evaluate(model, test_loader, criterion)"
      ],
      "metadata": {
        "id": "setEzNBZ0ewd"
      },
      "execution_count": null,
      "outputs": []
    },
    {
      "cell_type": "code",
      "source": [
        "print(f'| Test Loss: {test_loss:.3f} | Test PPL: {math.exp(test_loss):7.3f} |')"
      ],
      "metadata": {
        "id": "FyWD_ddf4tQn"
      },
      "execution_count": null,
      "outputs": []
    },
    {
      "cell_type": "markdown",
      "source": [
        "از نتایج به دست آمده در دو قسمت بالا مشخص میشود استفاده از واحدهای جی.آر.یو علی رغم داشتن سادگی و نداشتن مشکلات از بین رفتن یا بزرگ شدن گرادیان به لاس کمتری منجر شد. در بالا از ایده ی دیگری که در لینک زیر وجود داشت نیز استافاده شد. و در واقع در این رویکرد خروجی انکدر به ورودی های واحد های جی.آر.یو و لایه ی تماما داده شد."
      ],
      "metadata": {
        "id": "VGZ71XtL0JNS"
      }
    },
    {
      "cell_type": "markdown",
      "source": [
        "https://github.com/bentrevett/pytorch-seq2seq\n",
        "\n",
        "https://github.com/sauravraghuvanshi/Udacity-Computer-Vision-Nanodegree-Program/tree/master/localization_exercises"
      ],
      "metadata": {
        "id": "G-8a4Xs3JCGf"
      }
    },
    {
      "cell_type": "code",
      "source": [],
      "metadata": {
        "id": "_OHKzklMwqRm"
      },
      "execution_count": null,
      "outputs": []
    }
  ]
}